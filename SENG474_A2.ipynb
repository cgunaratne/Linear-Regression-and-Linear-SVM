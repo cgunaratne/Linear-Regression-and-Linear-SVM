{
  "nbformat": 4,
  "nbformat_minor": 0,
  "metadata": {
    "colab": {
      "provenance": []
    },
    "kernelspec": {
      "name": "python3",
      "display_name": "Python 3"
    },
    "language_info": {
      "name": "python"
    }
  },
  "cells": [
    {
      "cell_type": "markdown",
      "source": [
        "# Assignment 2"
      ],
      "metadata": {
        "id": "DVzKo6LDc4Bv"
      }
    },
    {
      "cell_type": "code",
      "execution_count": 1,
      "metadata": {
        "id": "0OEhzPEQcv9w"
      },
      "outputs": [],
      "source": [
        "#Loading the dataset through keras\n",
        "import numpy as np\n",
        "from tensorflow import keras\n",
        "from sklearn import preprocessing\n",
        "from sklearn.preprocessing import StandardScaler\n",
        "\n",
        "\n",
        "# Load Fashion-MNIST dataset\n",
        "fashion_mnist = keras.datasets.fashion_mnist\n",
        "(X_train, Y_train), (X_test, Y_test) = fashion_mnist.load_data()\n",
        "\n",
        "\n",
        "\n",
        "\n",
        "#From : https://stackoverflow.com/questions/51202181/how-do-i-select-only-a-specific-digit-from-the-mnist-dataset-provided-by-keras\n",
        "\n",
        "\n",
        "# Use only the data points from classes 0 and 6 \n",
        "# Only use 1000 training examples for each class to avoid  wasting alot of time on training the data for the sake of the assignment.\n",
        "\n",
        "# set the random state\n",
        "np.random.seed(42)\n",
        "\n",
        "train_filter_0 = np.random.choice(np.where(Y_train == 0)[0], size=1000, replace=False)\n",
        "train_filter_6 = np.random.choice(np.where(Y_train == 6)[0], size=1000, replace=False)\n",
        "train_filter = np.concatenate((train_filter_0, train_filter_6))\n",
        "\n",
        "test_filter = np.where((Y_test == 0) | (Y_test == 6))\n",
        "\n",
        "x_train, y_train = X_train[train_filter], Y_train[train_filter]\n",
        "x_test, y_test = X_test[test_filter], Y_test[test_filter]\n",
        "\n",
        "\n",
        "#From: https://stackoverflow.com/questions/34972142/sklearn-logistic-regression-valueerror-found-array-with-dim-3-estimator-expec\n",
        "\n",
        "nsamples, nx, ny = x_train.shape\n",
        "x_train = x_train.reshape((nsamples,nx*ny))\n",
        "\n",
        "nsamples, nx, ny = x_test.shape\n",
        "x_test = x_test.reshape((nsamples,nx*ny))\n",
        "\n",
        "#From: https://scikit-learn.org/stable/modules/preprocessing.html\n",
        "\n",
        "scaler = preprocessing.StandardScaler().fit(x_train)\n",
        "x_train = scaler.transform(x_train)\n",
        "\n",
        "scaler = preprocessing.StandardScaler().fit(x_test)\n",
        "x_test = scaler.transform(x_test)\n",
        "\n",
        "\n",
        "\n",
        "#This is used for the Third and  Fourth section because the optimized C is used on the ENTIRE training set\n",
        "# Use only the data points from classes 0 and 6\n",
        "class_indices = np.where((Y_train == 0) | (Y_train == 6))\n",
        "X_train = X_train[class_indices]\n",
        "Y_train = Y_train[class_indices]\n",
        "\n",
        "class_indices = np.where((Y_test == 0) | (Y_test == 6))\n",
        "X_test = X_test[class_indices]\n",
        "Y_test = Y_test[class_indices]\n",
        "\n",
        "\n",
        "#From: https://stackoverflow.com/questions/34972142/sklearn-logistic-regression-valueerror-found-array-with-dim-3-estimator-expec\n",
        "\n",
        "nsamples, nx, ny = X_train.shape\n",
        "X_train = X_train.reshape((nsamples,nx*ny))\n",
        "\n",
        "nsamples, nx, ny = X_test.shape\n",
        "X_test = X_test.reshape((nsamples,nx*ny))\n",
        "\n",
        "#From: https://scikit-learn.org/stable/modules/preprocessing.html\n",
        "\n",
        "scaler = preprocessing.StandardScaler().fit(X_train)\n",
        "X_train = scaler.transform(X_train)\n",
        "\n",
        "scaler = preprocessing.StandardScaler().fit(X_test)\n",
        "X_test = scaler.transform(X_test)\n"
      ]
    },
    {
      "cell_type": "markdown",
      "source": [
        "## First :  Logistic regression"
      ],
      "metadata": {
        "id": "SmL5cD7pdGIp"
      }
    },
    {
      "cell_type": "code",
      "source": [
        "from sklearn.linear_model import LogisticRegression"
      ],
      "metadata": {
        "id": "c8uJtE4xX_1N"
      },
      "execution_count": 2,
      "outputs": []
    },
    {
      "cell_type": "code",
      "source": [
        "clf1 = LogisticRegression(penalty = \"l2\",random_state = 40, max_iter = 100, C = 1*10**(-22))\n",
        "clf1.fit(x_train, y_train)\n",
        "\n",
        "print(\"train accuracy:\",clf1.score(x_train,y_train))\n",
        "print(\"test accuracy: \",clf1.score(x_test,y_test))"
      ],
      "metadata": {
        "colab": {
          "base_uri": "https://localhost:8080/"
        },
        "id": "TZHdpGCBZfSv",
        "outputId": "3731f674-7d5d-462e-c3e8-7186343e23cd"
      },
      "execution_count": 3,
      "outputs": [
        {
          "output_type": "stream",
          "name": "stdout",
          "text": [
            "train accuracy: 0.5\n",
            "test accuracy:  0.5\n"
          ]
        }
      ]
    },
    {
      "cell_type": "code",
      "source": [
        "clf2 = LogisticRegression(penalty = \"l2\",random_state = 40, max_iter = 100, C = 1*10**(-23))\n",
        "clf2.fit(x_train, y_train)\n",
        "\n",
        "print(\"train accuracy:\",clf2.score(x_train,y_train))\n",
        "print(\"test accuracy: \",clf2.score(x_test,y_test))"
      ],
      "metadata": {
        "colab": {
          "base_uri": "https://localhost:8080/"
        },
        "id": "O8nz8mvoE3qM",
        "outputId": "4a89c233-b00c-4d88-b189-53f0de80f44a"
      },
      "execution_count": 4,
      "outputs": [
        {
          "output_type": "stream",
          "name": "stdout",
          "text": [
            "train accuracy: 0.5\n",
            "test accuracy:  0.5\n"
          ]
        }
      ]
    },
    {
      "cell_type": "code",
      "source": [
        "clf3 = LogisticRegression(penalty = \"l2\",random_state = 40, max_iter = 100, C = 1*10**(-24))\n",
        "clf3.fit(x_train, y_train)\n",
        "\n",
        "print(\"train accuracy:\",clf3.score(x_train,y_train))\n",
        "print(\"test accuracy: \",clf3.score(x_test,y_test))"
      ],
      "metadata": {
        "colab": {
          "base_uri": "https://localhost:8080/"
        },
        "id": "cNfN6sBvFHya",
        "outputId": "aa26439a-62ef-4685-ee51-43f57af21976"
      },
      "execution_count": 5,
      "outputs": [
        {
          "output_type": "stream",
          "name": "stdout",
          "text": [
            "train accuracy: 0.5\n",
            "test accuracy:  0.5\n"
          ]
        }
      ]
    },
    {
      "cell_type": "markdown",
      "source": [
        "When c is very low both train and test accuracy stay at 0.5. Even though there is no over or underfitting the accuracy level of both the test and training set is very low. "
      ],
      "metadata": {
        "id": "9p-RcG9motXC"
      }
    },
    {
      "cell_type": "code",
      "source": [
        "clf14 = LogisticRegression(penalty = \"l2\",random_state = 40, max_iter = 10000, C = 0.0000001)\n",
        "clf14.fit(x_train, y_train)\n",
        "\n",
        "print(\"train accuracy:\",clf14.score(x_train,y_train))\n",
        "print(\"test accuracy: \",clf14.score(x_test,y_test))"
      ],
      "metadata": {
        "colab": {
          "base_uri": "https://localhost:8080/"
        },
        "id": "Jq6kFX2X4xsW",
        "outputId": "f1f55e97-e4cb-449a-caaa-ee917a7b5bc8"
      },
      "execution_count": 6,
      "outputs": [
        {
          "output_type": "stream",
          "name": "stdout",
          "text": [
            "train accuracy: 0.7995\n",
            "test accuracy:  0.78\n"
          ]
        }
      ]
    },
    {
      "cell_type": "code",
      "source": [
        "clf13 = LogisticRegression(penalty = \"l2\",random_state = 40, max_iter = 10000, C = 0.000001)\n",
        "clf13.fit(x_train, y_train)\n",
        "\n",
        "print(\"train accuracy:\",clf13.score(x_train,y_train))\n",
        "print(\"test accuracy: \",clf13.score(x_test,y_test))"
      ],
      "metadata": {
        "colab": {
          "base_uri": "https://localhost:8080/"
        },
        "id": "jtyi0gVr4t8B",
        "outputId": "a2c7a87a-f565-4cdb-f887-de12f32f2e65"
      },
      "execution_count": 7,
      "outputs": [
        {
          "output_type": "stream",
          "name": "stdout",
          "text": [
            "train accuracy: 0.8035\n",
            "test accuracy:  0.781\n"
          ]
        }
      ]
    },
    {
      "cell_type": "code",
      "source": [
        "clf12 = LogisticRegression(penalty = \"l2\",random_state = 40, max_iter = 10000, C = 0.00001)\n",
        "clf12.fit(x_train, y_train)\n",
        "\n",
        "print(\"train accuracy:\",clf12.score(x_train,y_train))\n",
        "print(\"test accuracy: \",clf12.score(x_test,y_test))"
      ],
      "metadata": {
        "colab": {
          "base_uri": "https://localhost:8080/"
        },
        "id": "ufzkGElK4RY7",
        "outputId": "687297c2-211b-4af6-e519-c3861f117fc2"
      },
      "execution_count": 8,
      "outputs": [
        {
          "output_type": "stream",
          "name": "stdout",
          "text": [
            "train accuracy: 0.818\n",
            "test accuracy:  0.7895\n"
          ]
        }
      ]
    },
    {
      "cell_type": "code",
      "source": [
        "clf11 = LogisticRegression(penalty = \"l2\",random_state = 40, max_iter = 10000, C = 0.0001)\n",
        "clf11.fit(x_train, y_train)\n",
        "\n",
        "print(\"train accuracy:\",clf11.score(x_train,y_train))\n",
        "print(\"test accuracy: \",clf11.score(x_test,y_test))"
      ],
      "metadata": {
        "colab": {
          "base_uri": "https://localhost:8080/"
        },
        "id": "DQi1QbiY5FzR",
        "outputId": "414bad5e-f0d0-4147-f7e6-1d01ba84386a"
      },
      "execution_count": 9,
      "outputs": [
        {
          "output_type": "stream",
          "name": "stdout",
          "text": [
            "train accuracy: 0.829\n",
            "test accuracy:  0.8\n"
          ]
        }
      ]
    },
    {
      "cell_type": "code",
      "source": [
        "clf10 = LogisticRegression(penalty = \"l2\",random_state = 40, max_iter = 10000, C = 0.001)\n",
        "clf10.fit(x_train, y_train)\n",
        "\n",
        "print(\"train accuracy:\",clf10.score(x_train,y_train))\n",
        "print(\"test accuracy: \",clf10.score(x_test,y_test))"
      ],
      "metadata": {
        "colab": {
          "base_uri": "https://localhost:8080/"
        },
        "id": "Mo-UysIZ5CJW",
        "outputId": "ee535215-0955-43f4-e742-57cd9784d6d7"
      },
      "execution_count": 10,
      "outputs": [
        {
          "output_type": "stream",
          "name": "stdout",
          "text": [
            "train accuracy: 0.862\n",
            "test accuracy:  0.8235\n"
          ]
        }
      ]
    },
    {
      "cell_type": "code",
      "source": [
        "clf5 = LogisticRegression(penalty = \"l2\",random_state = 40,max_iter = 1000, C = 0.01)\n",
        "clf5.fit(x_train, y_train)\n",
        "\n",
        "print(\"train accuracy:\",clf5.score(x_train,y_train))\n",
        "print(\"test accuracy: \",clf5.score(x_test,y_test))\n"
      ],
      "metadata": {
        "colab": {
          "base_uri": "https://localhost:8080/"
        },
        "id": "7uZkaXyio108",
        "outputId": "8b628884-e812-439c-eb3c-c4b2a7981f15"
      },
      "execution_count": 11,
      "outputs": [
        {
          "output_type": "stream",
          "name": "stdout",
          "text": [
            "train accuracy: 0.9065\n",
            "test accuracy:  0.8335\n"
          ]
        }
      ]
    },
    {
      "cell_type": "code",
      "source": [
        "clf6 = LogisticRegression(penalty = \"l2\",random_state = 40, max_iter = 1000, C = 0.1)\n",
        "clf6.fit(x_train, y_train)\n",
        "\n",
        "print(\"train accuracy:\",clf6.score(x_train,y_train))\n",
        "print(\"test accuracy: \",clf6.score(x_test,y_test))"
      ],
      "metadata": {
        "colab": {
          "base_uri": "https://localhost:8080/"
        },
        "id": "rvUisHR8Ylfd",
        "outputId": "c870bd73-3cb9-4b5b-8223-89b19304a87b"
      },
      "execution_count": 12,
      "outputs": [
        {
          "output_type": "stream",
          "name": "stdout",
          "text": [
            "train accuracy: 0.9525\n",
            "test accuracy:  0.828\n"
          ]
        }
      ]
    },
    {
      "cell_type": "code",
      "source": [
        "clf7 = LogisticRegression(penalty = \"l2\",random_state = 40, max_iter = 1000, C = 1)\n",
        "clf7.fit(x_train, y_train)\n",
        "\n",
        "print(\"train accuracy:\",clf7.score(x_train,y_train))\n",
        "print(\"test accuracy: \",clf7.score(x_test,y_test))"
      ],
      "metadata": {
        "colab": {
          "base_uri": "https://localhost:8080/"
        },
        "id": "gJ7sM9Z3ZZYW",
        "outputId": "aa48b8ef-99f6-4c8f-a1ec-ca5ca40701bc"
      },
      "execution_count": 13,
      "outputs": [
        {
          "output_type": "stream",
          "name": "stdout",
          "text": [
            "train accuracy: 0.9865\n",
            "test accuracy:  0.8035\n"
          ]
        }
      ]
    },
    {
      "cell_type": "code",
      "source": [
        "clf8 = LogisticRegression(penalty = \"l2\",random_state = 40, max_iter = 900, C = 10)\n",
        "clf8.fit(x_train, y_train)\n",
        "\n",
        "print(\"train accuracy:\",clf8.score(x_train,y_train))\n",
        "print(\"test accuracy: \",clf8.score(x_test,y_test))"
      ],
      "metadata": {
        "colab": {
          "base_uri": "https://localhost:8080/"
        },
        "id": "mklAOF9LbAEB",
        "outputId": "18c8910f-5b0b-454c-80a4-b9117b2ca085"
      },
      "execution_count": 14,
      "outputs": [
        {
          "output_type": "stream",
          "name": "stdout",
          "text": [
            "train accuracy: 1.0\n",
            "test accuracy:  0.786\n"
          ]
        }
      ]
    },
    {
      "cell_type": "code",
      "source": [
        "clf9 = LogisticRegression(penalty = \"l2\",random_state = 40, max_iter = 2000, C = 100)\n",
        "clf9.fit(x_train, y_train)\n",
        "\n",
        "print(\"train accuracy:\",clf9.score(x_train,y_train))\n",
        "print(\"test accuracy: \",clf9.score(x_test,y_test))"
      ],
      "metadata": {
        "colab": {
          "base_uri": "https://localhost:8080/"
        },
        "id": "duzSR9rCdOcK",
        "outputId": "8ef593e2-8327-41e8-eef2-cc66d9fa1244"
      },
      "execution_count": 15,
      "outputs": [
        {
          "output_type": "stream",
          "name": "stdout",
          "text": [
            "train accuracy: 1.0\n",
            "test accuracy:  0.7825\n"
          ]
        }
      ]
    },
    {
      "cell_type": "code",
      "source": [
        "from sklearn.metrics import accuracy_score\n",
        "import matplotlib.pyplot as plt"
      ],
      "metadata": {
        "id": "F3H86x6F-YRI"
      },
      "execution_count": 16,
      "outputs": []
    },
    {
      "cell_type": "code",
      "source": [
        "test_acc = []\n",
        "train_acc = []\n",
        "\n",
        "\n",
        "# Define a logarithmically spaced grid of regularization parameters\n",
        "C0 = 0.0000001\n",
        "alpha = 10\n",
        "num_points =10\n",
        "C_vals = C0 * alpha**np.arange(num_points)\n",
        "\n",
        "\n",
        "#From: Assignment 1\n",
        "for C in C_vals:\n",
        "    clf15 = LogisticRegression(penalty = \"l2\",random_state = 40, max_iter = 2000, C = C)\n",
        "    clf15.fit(x_train, y_train)\n",
        "\n",
        "    train_acc.append(clf15.score(x_train,y_train))\n",
        "    test_acc.append(clf15.score(x_test,y_test))\n",
        "\n",
        "plt.figure(figsize = (8,8))\n",
        "plt.plot(C_vals,train_acc)\n",
        "plt.plot(C_vals, test_acc)\n",
        "plt.xlabel('C Value')\n",
        "plt.ylabel('Accuracy')\n",
        "plt.legend(['Training accuracy','Test accuracy'])"
      ],
      "metadata": {
        "colab": {
          "base_uri": "https://localhost:8080/",
          "height": 515
        },
        "id": "wK-Woa5LdHps",
        "outputId": "e740dd50-1c1d-4fc0-9f4f-7492e8e8e029"
      },
      "execution_count": 17,
      "outputs": [
        {
          "output_type": "execute_result",
          "data": {
            "text/plain": [
              "<matplotlib.legend.Legend at 0x7f5d1172df40>"
            ]
          },
          "metadata": {},
          "execution_count": 17
        },
        {
          "output_type": "display_data",
          "data": {
            "text/plain": [
              "<Figure size 576x576 with 1 Axes>"
            ],
            "image/png": "[encoded data removed]"
          },
          "metadata": {
            "needs_background": "light"
          }
        }
      ]
    },
    {
      "cell_type": "markdown",
      "source": [
        "It's hard to tell from the graph but it's obvious from my calculations that as  my regularization parameter increases the overfitting increases even by a small amount. And there's no underfitting from the calculations I did. This means regardless of C the training accuracy will never be higher than the training set accuracy. This makes it impossible for us find that sweet pot where the two (training acc and test acc) meet because they never do. So for this model the best we could do is choose a regularization parameter that maximizes the values of the training and test accuracy and minimizes the overfitting of the two. \n",
        "\n",
        "When the regularization parameter is very low there is little to no overfitting. For example when C = 0.0000000000000000000001 both training and test accuracy are almost the same however, they have a low accuracy level of 0.5. \n",
        "\n",
        "Therefore, I personally think that the best value for C is 0.0001 as the result achieved from this was the highest possible training and test accuracy (0.829 & 0.8 respectively) one could get for this model while keeping the overfitting to a minimum."
      ],
      "metadata": {
        "id": "zXHcHx7sGfo6"
      }
    },
    {
      "cell_type": "markdown",
      "source": [
        "## Second : Linear SVM"
      ],
      "metadata": {
        "id": "HncfNttVDJA3"
      }
    },
    {
      "cell_type": "code",
      "source": [
        "from sklearn.svm import LinearSVC"
      ],
      "metadata": {
        "id": "bovYAeywlxmX"
      },
      "execution_count": 18,
      "outputs": []
    },
    {
      "cell_type": "code",
      "source": [
        "clf16 = LinearSVC(random_state = 40, max_iter = 100, C = 1*10**-11)\n",
        "clf16.fit(x_train, y_train)\n",
        "\n",
        "print(\"train accuracy:\",clf16.score(x_train,y_train))\n",
        "print(\"test accuracy: \",clf16.score(x_test,y_test))"
      ],
      "metadata": {
        "colab": {
          "base_uri": "https://localhost:8080/"
        },
        "id": "w9sFwr-bj17Q",
        "outputId": "a21526a5-a68f-49b4-ff3e-354e9d9bfbca"
      },
      "execution_count": 19,
      "outputs": [
        {
          "output_type": "stream",
          "name": "stdout",
          "text": [
            "train accuracy: 0.7985\n",
            "test accuracy:  0.78\n"
          ]
        }
      ]
    },
    {
      "cell_type": "code",
      "source": [
        "clf17 = LinearSVC(random_state = 40, max_iter = 100, C = 1*10**-20)\n",
        "clf17.fit(x_train, y_train)\n",
        "\n",
        "print(\"train accuracy:\",clf17.score(x_train,y_train))\n",
        "print(\"test accuracy: \",clf17.score(x_test,y_test))"
      ],
      "metadata": {
        "colab": {
          "base_uri": "https://localhost:8080/"
        },
        "id": "SS7_Ej-5ZDvx",
        "outputId": "0d744be4-4d45-48f8-9c2d-e3337baabbbb"
      },
      "execution_count": 20,
      "outputs": [
        {
          "output_type": "stream",
          "name": "stdout",
          "text": [
            "train accuracy: 0.7985\n",
            "test accuracy:  0.78\n"
          ]
        }
      ]
    },
    {
      "cell_type": "markdown",
      "source": [
        "Similar to linear regression after some point no matter how low C is the training and test accuracy becomes constant. But not as low as what it would have been in linear regression."
      ],
      "metadata": {
        "id": "DOyvHUFRDZ86"
      }
    },
    {
      "cell_type": "markdown",
      "source": [
        "Below each plot represents a different range of C. This is because I want to explore the range of C that gives the highest training and test accuracy with a low level of overfitting"
      ],
      "metadata": {
        "id": "ZoMIrFodPE-h"
      }
    },
    {
      "cell_type": "code",
      "source": [
        "test_acc = []\n",
        "train_acc = []\n",
        "\n",
        "\n",
        "C_vals = np.arange(0.0009,0.001,0.00001)\n",
        "\n",
        "\n",
        "\n",
        "\n",
        "for C in C_vals:\n",
        "    clf23 = LinearSVC(C=C, random_state = 40, max_iter = 2000)\n",
        "    clf23.fit(x_train, y_train)\n",
        "    \n",
        "    train_acc.append(clf23.score(x_train,y_train))\n",
        "    test_acc.append(clf23.score(x_test,y_test))\n",
        "\n",
        "plt.figure(figsize = (8,8))\n",
        "plt.plot(C_vals,train_acc)\n",
        "plt.plot(C_vals, test_acc)\n",
        "plt.xlabel('C Value')\n",
        "plt.ylabel('Accuracy')\n",
        "plt.legend(['Training accuracy','Test accuracy'])"
      ],
      "metadata": {
        "colab": {
          "base_uri": "https://localhost:8080/",
          "height": 515
        },
        "id": "GJYX-M5MKzfU",
        "outputId": "fc70bd0e-1b8d-4691-8750-db2662942f98"
      },
      "execution_count": 21,
      "outputs": [
        {
          "output_type": "execute_result",
          "data": {
            "text/plain": [
              "<matplotlib.legend.Legend at 0x7f5d11627cd0>"
            ]
          },
          "metadata": {},
          "execution_count": 21
        },
        {
          "output_type": "display_data",
          "data": {
            "text/plain": [
              "<Figure size 576x576 with 1 Axes>"
            ],
            "image/png": "[encoded data removed]"
          },
          "metadata": {
            "needs_background": "light"
          }
        }
      ]
    },
    {
      "cell_type": "markdown",
      "source": [
        "Test Accuracy : 0.83 (approx)\n",
        "\n",
        "Training accuracy : 0.905 (approx)\n",
        "\n",
        "Overfitting = 0.075"
      ],
      "metadata": {
        "id": "1C2xsfBkP1kl"
      }
    },
    {
      "cell_type": "code",
      "source": [
        "test_acc = []\n",
        "train_acc = []\n",
        "\n",
        "\n",
        "C_vals = np.arange(0.00009,0.0001,0.000001)\n",
        "\n",
        "\n",
        "\n",
        "\n",
        "for C in C_vals:\n",
        "    clf24 = LinearSVC(C=C, random_state = 40, max_iter = 2000)\n",
        "    clf24.fit(x_train, y_train)\n",
        "    \n",
        "    train_acc.append(clf24.score(x_train,y_train))\n",
        "    test_acc.append(clf24.score(x_test,y_test))\n",
        "\n",
        "plt.figure(figsize = (8,8))\n",
        "plt.plot(C_vals,train_acc)\n",
        "plt.plot(C_vals, test_acc)\n",
        "plt.xlabel('C Value')\n",
        "plt.ylabel('Accuracy')\n",
        "plt.legend(['Training accuracy','Test accuracy'])"
      ],
      "metadata": {
        "colab": {
          "base_uri": "https://localhost:8080/",
          "height": 515
        },
        "id": "f2lrxGknMQzy",
        "outputId": "06464808-c4a2-46d3-b143-89e4778c3e45"
      },
      "execution_count": 22,
      "outputs": [
        {
          "output_type": "execute_result",
          "data": {
            "text/plain": [
              "<matplotlib.legend.Legend at 0x7f5d115af730>"
            ]
          },
          "metadata": {},
          "execution_count": 22
        },
        {
          "output_type": "display_data",
          "data": {
            "text/plain": [
              "<Figure size 576x576 with 1 Axes>"
            ],
            "image/png": "[encoded data removed]"
          },
          "metadata": {
            "needs_background": "light"
          }
        }
      ]
    },
    {
      "cell_type": "markdown",
      "source": [
        "Test Accuracy : 0.825 (approx)\n",
        "\n",
        "Training accuracy : 0.860 (approx)\n",
        "\n",
        "Overfitting = 0.035"
      ],
      "metadata": {
        "id": "0wf8CECLQNxN"
      }
    },
    {
      "cell_type": "code",
      "source": [
        "test_acc = []\n",
        "train_acc = []\n",
        "\n",
        "\n",
        "C_vals = np.arange(0.000009,0.00001,0.0000001)\n",
        "\n",
        "\n",
        "\n",
        "\n",
        "for C in C_vals:\n",
        "    clf25 = LinearSVC(C=C, random_state = 40, max_iter = 2000)\n",
        "    clf25.fit(x_train, y_train)\n",
        "    \n",
        "    train_acc.append(clf25.score(x_train,y_train))\n",
        "    test_acc.append(clf25.score(x_test,y_test))\n",
        "\n",
        "plt.figure(figsize = (8,8))\n",
        "plt.plot(C_vals,train_acc)\n",
        "plt.plot(C_vals, test_acc)\n",
        "plt.xlabel('C Value')\n",
        "plt.ylabel('Accuracy')\n",
        "plt.legend(['Training accuracy','Test accuracy'])"
      ],
      "metadata": {
        "colab": {
          "base_uri": "https://localhost:8080/",
          "height": 515
        },
        "id": "mf-xKoCHDRNT",
        "outputId": "bf041d37-9048-4fca-e2bb-0203a6daa11d"
      },
      "execution_count": 23,
      "outputs": [
        {
          "output_type": "execute_result",
          "data": {
            "text/plain": [
              "<matplotlib.legend.Legend at 0x7f5d1152c280>"
            ]
          },
          "metadata": {},
          "execution_count": 23
        },
        {
          "output_type": "display_data",
          "data": {
            "text/plain": [
              "<Figure size 576x576 with 1 Axes>"
            ],
            "image/png": "[encoded data removed]"
          },
          "metadata": {
            "needs_background": "light"
          }
        }
      ]
    },
    {
      "cell_type": "markdown",
      "source": [
        "Test Accuracy : 0.8 (approx)\n",
        "\n",
        "Training accuracy : 0.828 (approx)\n",
        "\n",
        "Overfitting = 0.028"
      ],
      "metadata": {
        "id": "iG_atAyXQdYl"
      }
    },
    {
      "cell_type": "code",
      "source": [
        "test_acc = []\n",
        "train_acc = []\n",
        "\n",
        "\n",
        "C_vals = np.arange(0.0000009,0.000001,0.00000001)\n",
        "\n",
        "\n",
        "\n",
        "\n",
        "for C in C_vals:\n",
        "    clf26 = LinearSVC(C=C, random_state = 40, max_iter = 2000)\n",
        "    clf26.fit(x_train, y_train)\n",
        "    \n",
        "    train_acc.append(clf26.score(x_train,y_train))\n",
        "    test_acc.append(clf26.score(x_test,y_test))\n",
        "\n",
        "plt.figure(figsize = (8,8))\n",
        "plt.plot(C_vals,train_acc)\n",
        "plt.plot(C_vals, test_acc)\n",
        "plt.xlabel('C Value')\n",
        "plt.ylabel('Accuracy')\n",
        "plt.legend(['Training accuracy','Test accuracy'])"
      ],
      "metadata": {
        "colab": {
          "base_uri": "https://localhost:8080/",
          "height": 515
        },
        "id": "MPDtYQrcNO9z",
        "outputId": "3ceb9957-547f-459f-851c-3c4139d914bc"
      },
      "execution_count": 24,
      "outputs": [
        {
          "output_type": "execute_result",
          "data": {
            "text/plain": [
              "<matplotlib.legend.Legend at 0x7f5d11516760>"
            ]
          },
          "metadata": {},
          "execution_count": 24
        },
        {
          "output_type": "display_data",
          "data": {
            "text/plain": [
              "<Figure size 576x576 with 1 Axes>"
            ],
            "image/png": "[encoded data removed]"
          },
          "metadata": {
            "needs_background": "light"
          }
        }
      ]
    },
    {
      "cell_type": "markdown",
      "source": [
        "Test Accuracy : 0.786 (approx)\n",
        "\n",
        "Training accuracy : 0.818 (approx)\n",
        "\n",
        "Overfitting = 0.032"
      ],
      "metadata": {
        "id": "vJeEdhZWDfCE"
      }
    },
    {
      "cell_type": "code",
      "source": [
        "test_acc = []\n",
        "train_acc = []\n",
        "\n",
        "\n",
        "C_vals = np.arange(0.00000009,0.0000001,0.000000001)\n",
        "\n",
        "\n",
        "\n",
        "\n",
        "for C in C_vals:\n",
        "    clf27 = LinearSVC(C=C, random_state = 40, max_iter = 2000)\n",
        "    clf27.fit(x_train, y_train)\n",
        "    \n",
        "    train_acc.append(clf27.score(x_train,y_train))\n",
        "    test_acc.append(clf27.score(x_test,y_test))\n",
        "\n",
        "plt.figure(figsize = (8,8))\n",
        "plt.plot(C_vals,train_acc)\n",
        "plt.plot(C_vals, test_acc)\n",
        "plt.xlabel('C Value')\n",
        "plt.ylabel('Accuracy')\n",
        "plt.legend(['Training accuracy','Test accuracy'])"
      ],
      "metadata": {
        "colab": {
          "base_uri": "https://localhost:8080/",
          "height": 515
        },
        "id": "kUhumuQMNl86",
        "outputId": "f8c36cc8-b565-4667-d199-2a4902505133"
      },
      "execution_count": 25,
      "outputs": [
        {
          "output_type": "execute_result",
          "data": {
            "text/plain": [
              "<matplotlib.legend.Legend at 0x7f5d11487d00>"
            ]
          },
          "metadata": {},
          "execution_count": 25
        },
        {
          "output_type": "display_data",
          "data": {
            "text/plain": [
              "<Figure size 576x576 with 1 Axes>"
            ],
            "image/png": "[encoded data removed]"
          },
          "metadata": {
            "needs_background": "light"
          }
        }
      ]
    },
    {
      "cell_type": "markdown",
      "source": [
        "Towards the end of this range at around C = 0.000000098\n",
        "\n",
        "Test Accuracy : 0.7815 (approx)\n",
        "\n",
        "Training accuracy : 0.8035 (approx)\n",
        "\n",
        "Overfitting = 0.022"
      ],
      "metadata": {
        "id": "D3vrId4DETDw"
      }
    },
    {
      "cell_type": "markdown",
      "source": [
        "Roughly as the range of C values increase the overfitting increase. The best range for the c value we can take in my opinion is a value between 0.000009 and 0.00001. So C = 0.0000095 would be the best possible the regularization paameter can have for this dataset and chosen model."
      ],
      "metadata": {
        "id": "p5Wt40N3w1hV"
      }
    },
    {
      "cell_type": "markdown",
      "source": [
        "## Third: k-fold"
      ],
      "metadata": {
        "id": "IUs_9yShwowc"
      }
    },
    {
      "cell_type": "code",
      "source": [
        "from sklearn.svm import SVC"
      ],
      "metadata": {
        "id": "NdR8SBsuEzVq"
      },
      "execution_count": 39,
      "outputs": []
    },
    {
      "cell_type": "code",
      "source": [
        "def k_fold_cross_validation(X_train, y_train, k):\n",
        "    np.random.seed(42)\n",
        "    n_samples = X_train.shape[0]\n",
        "    fold_size = n_samples // k\n",
        "    linear_svm_scores = []\n",
        "    logreg_scores = []\n",
        "    C_range = [0.00000001,0.0000001,0.000001,0.00001,0.0001,0.001,0.01, 0.1]\n",
        "\n",
        "\n",
        "    # SVM & Logistic regression k-fold cross-validation\n",
        "    for C in C_range:\n",
        "        linear_svm_score = 0\n",
        "        logreg_score = 0\n",
        "        for fold in range(k):\n",
        "            fold_start = fold * fold_size\n",
        "            fold_end = (fold + 1) * fold_size\n",
        "            X_val_fold = X_train[fold_start:fold_end]\n",
        "            y_val_fold = y_train[fold_start:fold_end]\n",
        "            X_train_fold = np.concatenate((X_train[:fold_start], X_train[fold_end:]), axis=0)\n",
        "            y_train_fold = np.concatenate((y_train[:fold_start], y_train[fold_end:]), axis=0)\n",
        "\n",
        "            linear_svm_model = LinearSVC(C=C, random_state = 40, max_iter = 5000)\n",
        "            linear_svm_model.fit(X_train_fold, y_train_fold)\n",
        "            linear_svm_score += linear_svm_model.score(X_val_fold, y_val_fold)\n",
        "\n",
        "            logreg_model = LogisticRegression(penalty = \"l2\",random_state = 40, max_iter = 1000, C =C)\n",
        "            logreg_model.fit(X_train_fold, y_train_fold)\n",
        "            logreg_score += logreg_model.score(X_val_fold, y_val_fold)\n",
        "\n",
        "        linear_svm_scores.append(linear_svm_score / k)\n",
        "        logreg_scores.append(logreg_score / k)\n",
        "\n",
        "    \n",
        "\n",
        "\n",
        "        \n",
        "\n",
        "    # Find best regularization parameter for SVM and logistic regression\n",
        "    best_linear_svm_C = C_range[np.argmax(linear_svm_scores)]\n",
        "    best_logreg_C = C_range[np.argmax(logreg_scores)]\n",
        "\n",
        "    return best_linear_svm_C, best_logreg_C\n"
      ],
      "metadata": {
        "id": "XkKokA9DQ8c7"
      },
      "execution_count": 40,
      "outputs": []
    },
    {
      "cell_type": "markdown",
      "source": [
        "The code performs k-fold cross-validation to tune the hyperparameters (C) for two classification models, Linear SVM and Logistic Regression. It uses the training data to divide it into k-folds and trains each model on k-1 folds while validating on the remaining fold. This process is repeated for different values of C, and the average validation score for each C value is computed. The code then selects the value of C that gives the highest validation score for each model and returns them. Finally, the optimal models are trained on the entire training set and tested on a separate test set to report their test error."
      ],
      "metadata": {
        "id": "Muahq-CNsuuj"
      }
    },
    {
      "cell_type": "code",
      "source": [
        "array = k_fold_cross_validation(x_train, y_train, 10)"
      ],
      "metadata": {
        "id": "WPiCa_uCEncR"
      },
      "execution_count": 41,
      "outputs": []
    },
    {
      "cell_type": "code",
      "source": [
        "print(\"Optimal regularization parameter for Logistic Regresion : \", array[1])\n",
        "print(\"Optimal regularization parameter for SVM                : \", array[0])"
      ],
      "metadata": {
        "id": "1FL8SCn7RPIO",
        "colab": {
          "base_uri": "https://localhost:8080/"
        },
        "outputId": "84d6a962-bd95-42c0-e560-5b8bf0953652"
      },
      "execution_count": 42,
      "outputs": [
        {
          "output_type": "stream",
          "name": "stdout",
          "text": [
            "Optimal regularization parameter for Logistic Regresion :  0.01\n",
            "Optimal regularization parameter for SVM                :  0.0001\n"
          ]
        }
      ]
    },
    {
      "cell_type": "markdown",
      "source": [
        "Below I will train each model using the entire training set and evaluate their performance on the test set."
      ],
      "metadata": {
        "id": "-_yB5vaR0kVd"
      }
    },
    {
      "cell_type": "code",
      "source": [
        "# Train SVM model on full training set with optimal regularization parameter\n",
        "linear_svm_model = LinearSVC(C=array[0], random_state=40, max_iter=5000)\n",
        "linear_svm_model.fit(X_train, Y_train)\n",
        "y_test_pred_svm = linear_svm_model.predict(X_test)\n",
        "\n",
        "\n",
        "# Train logistic regression model on full training set with optimal regularization parameter\n",
        "logreg_model = LogisticRegression(penalty=\"l2\", random_state=40, max_iter=3000, C=array[1])\n",
        "logreg_model.fit(X_train, y=Y_train)\n",
        "y_test_pred_logreg = logreg_model.predict(X_test)\n",
        "\n",
        "# Evaluate test error for SVM model\n",
        "linear_svm_test_error = 1 - linear_svm_model.score(X_test, Y_test)\n",
        "\n",
        "# Evaluate test error for logistic regression model\n",
        "logreg_test_error = 1 - logreg_model.score(X_test, Y_test)\n",
        "\n",
        "print(\"SVM test error:\", linear_svm_test_error)\n",
        "print(\"Logistic regression test error:\", logreg_test_error)"
      ],
      "metadata": {
        "colab": {
          "base_uri": "https://localhost:8080/"
        },
        "id": "MK7y-jkvtiwV",
        "outputId": "c5a815fc-3d6f-40c3-d2ab-ec33a9f4d54e"
      },
      "execution_count": 43,
      "outputs": [
        {
          "output_type": "stream",
          "name": "stdout",
          "text": [
            "SVM test error: 0.15400000000000003\n",
            "Logistic regression test error: 0.15400000000000003\n"
          ]
        }
      ]
    },
    {
      "cell_type": "markdown",
      "source": [
        "Now I will determine if the test errors are significantly different by calculating the confidence intervals."
      ],
      "metadata": {
        "id": "Gi2Ez6By6RAi"
      }
    },
    {
      "cell_type": "code",
      "source": [
        "import scipy.stats as stats"
      ],
      "metadata": {
        "id": "EVZOluv0Uq25"
      },
      "execution_count": 44,
      "outputs": []
    },
    {
      "cell_type": "code",
      "source": [
        "# Calculate standard error for SVM model\n",
        "linear_svm_std_error = np.std(Y_test) / np.sqrt(len(Y_test))\n",
        "linear_svm_ci = stats.t.interval(0.95, len(Y_test) - 1, loc=linear_svm_test_error, scale=linear_svm_std_error)\n",
        "\n",
        "# Calculate standard error for logistic regression model\n",
        "logreg_std_error = np.std(Y_test) / np.sqrt(len(Y_test))\n",
        "logreg_ci = stats.t.interval(0.95, len(Y_test) - 1, loc=logreg_test_error, scale=logreg_std_error)\n",
        "\n",
        "# Print confidence intervals for each model's test error\n",
        "print(\"SVM 95% confidence interval:\", linear_svm_ci)\n",
        "print(\"Logistic regression 95% confidence interval:\", logreg_ci)"
      ],
      "metadata": {
        "colab": {
          "base_uri": "https://localhost:8080/"
        },
        "id": "niTREBUZ0ARi",
        "outputId": "282920f8-80d0-4f69-de6c-3407e412d2c3"
      },
      "execution_count": 46,
      "outputs": [
        {
          "output_type": "stream",
          "name": "stdout",
          "text": [
            "SVM 95% confidence interval: (0.022441963309851237, 0.2855580366901488)\n",
            "Logistic regression 95% confidence interval: (0.022441963309851237, 0.2855580366901488)\n"
          ]
        }
      ]
    },
    {
      "cell_type": "markdown",
      "source": [
        "The SVM and logistic regression models have similar test error rates, with both having a test error of approximately 0.15. The confidence intervals for the test errors of both models overlap, indicating that the difference in mean test errors between the models is not statistically significant at a 95% confidence level. "
      ],
      "metadata": {
        "id": "vN0Gpk9L59Ya"
      }
    },
    {
      "cell_type": "markdown",
      "source": [
        "## Fourth : SVM with Gaussian Kernel"
      ],
      "metadata": {
        "id": "UmLutbeXLQjy"
      }
    },
    {
      "cell_type": "code",
      "source": [
        "k = 10\n",
        "\n",
        "n_samples = x_train.shape[0]\n",
        "fold_size = n_samples // k\n",
        "# svm_scores = []\n",
        "train_acc = []\n",
        "test_acc = []\n",
        "C_range = [0.00000001,0.0000001,0.000001,0.00001,0.0001,0.001,0.01, 0.1]\n",
        "gamma_range = np.logspace(-9, 3, 13)\n",
        "# gamma_range = [0.00000001,0.00000005,0.0000001,0.0000005,0.000001,0.000005,0.00001,0.00005]\n",
        "\n",
        "\n",
        "\n",
        "\n",
        "for gamma in gamma_range:\n",
        "    svm_scores = []\n",
        "    for C in C_range:\n",
        "        svm_score = 0\n",
        "        for fold in range(k):\n",
        "            fold_start = fold * fold_size\n",
        "            fold_end = (fold + 1) * fold_size\n",
        "            X_val_fold = x_train[fold_start:fold_end]\n",
        "            y_val_fold = y_train[fold_start:fold_end]\n",
        "            X_train_fold = np.concatenate((x_train[:fold_start], x_train[fold_end:]), axis=0)\n",
        "            y_train_fold = np.concatenate((y_train[:fold_start], y_train[fold_end:]), axis=0)\n",
        "\n",
        "            svm_model = SVC(kernel='rbf',gamma = gamma, C=C, random_state = 40, max_iter = 5000)\n",
        "            svm_model.fit(X_train_fold, y_train_fold)\n",
        "            svm_score += svm_model.score(X_val_fold, y_val_fold)\n",
        "            \n",
        "            \n",
        "        svm_scores.append(svm_score / k)\n",
        "\n",
        "    # Train SVM model on full training set with optimal regularization parameter\n",
        "    svm_model = SVC(C=C_range[np.argmax(svm_scores)],kernel='rbf',gamma = gamma, random_state = 40, max_iter = 510000)\n",
        "    svm_model.fit(X_train, Y_train)\n",
        "    y_test_pred_svm = svm_model.predict(X_test)\n",
        "\n",
        "    # Evaluate test error for SVM model\n",
        "    svm_test_error = 1 - svm_model.score(X_test, Y_test)\n",
        "    svm_training_error = 1 - svm_model.score(X_train, Y_train)\n",
        "\n",
        "    print(\"Gamma: \", gamma)\n",
        "    print(\"Optimal C: \", C_range[np.argmax(svm_scores)])\n",
        "    print(\"SVM test error:\", svm_test_error)\n",
        "    print(\"SVM training error:\", svm_training_error)\n",
        "    train_acc.append(svm_training_error)\n",
        "    test_acc.append(svm_test_error)\n",
        "    print(\"\\n\")\n",
        "\n"
      ],
      "metadata": {
        "id": "WgtasQ2qAhoB",
        "colab": {
          "base_uri": "https://localhost:8080/"
        },
        "outputId": "f5f426fd-a37c-4db0-cfb5-39038b4d1620"
      },
      "execution_count": 48,
      "outputs": [
        {
          "output_type": "stream",
          "name": "stdout",
          "text": [
            "Gamma:  1e-09\n",
            "Optimal C:  1e-08\n",
            "SVM test error: 0.21750000000000003\n",
            "SVM training error: 0.2004166666666667\n",
            "\n",
            "\n",
            "Gamma:  1e-08\n",
            "Optimal C:  1e-08\n",
            "SVM test error: 0.21750000000000003\n",
            "SVM training error: 0.20025000000000004\n",
            "\n",
            "\n",
            "Gamma:  1e-07\n",
            "Optimal C:  1e-08\n",
            "SVM test error: 0.21799999999999997\n",
            "SVM training error: 0.2004166666666667\n",
            "\n",
            "\n",
            "Gamma:  1e-06\n",
            "Optimal C:  1e-08\n",
            "SVM test error: 0.21799999999999997\n",
            "SVM training error: 0.20016666666666671\n",
            "\n",
            "\n",
            "Gamma:  1e-05\n",
            "Optimal C:  1e-08\n",
            "SVM test error: 0.21350000000000002\n",
            "SVM training error: 0.20066666666666666\n",
            "\n",
            "\n",
            "Gamma:  0.0001\n",
            "Optimal C:  0.1\n",
            "SVM test error: 0.1995\n",
            "SVM training error: 0.1795\n",
            "\n",
            "\n",
            "Gamma:  0.001\n",
            "Optimal C:  0.1\n",
            "SVM test error: 0.1745\n",
            "SVM training error: 0.1515833333333333\n",
            "\n",
            "\n",
            "Gamma:  0.01\n",
            "Optimal C:  0.1\n",
            "SVM test error: 0.21950000000000003\n",
            "SVM training error: 0.17200000000000004\n",
            "\n",
            "\n",
            "Gamma:  0.1\n",
            "Optimal C:  1e-08\n",
            "SVM test error: 0.49850000000000005\n",
            "SVM training error: 0.0\n",
            "\n",
            "\n",
            "Gamma:  1.0\n",
            "Optimal C:  1e-08\n",
            "SVM test error: 0.5\n",
            "SVM training error: 0.0\n",
            "\n",
            "\n",
            "Gamma:  10.0\n",
            "Optimal C:  1e-08\n",
            "SVM test error: 0.5\n",
            "SVM training error: 0.0\n",
            "\n",
            "\n",
            "Gamma:  100.0\n",
            "Optimal C:  1e-08\n",
            "SVM test error: 0.499\n",
            "SVM training error: 0.0\n",
            "\n",
            "\n",
            "Gamma:  1000.0\n",
            "Optimal C:  1e-08\n",
            "SVM test error: 0.49950000000000006\n",
            "SVM training error: 0.0\n",
            "\n",
            "\n"
          ]
        }
      ]
    },
    {
      "cell_type": "code",
      "source": [
        "\n",
        "\n",
        "\n",
        "\n",
        "plt.figure(figsize = (8,8))\n",
        "plt.plot(gamma_range,train_acc)\n",
        "plt.plot(gamma_range,test_acc)\n",
        "plt.xlabel('Gamma Value')\n",
        "plt.ylabel('Accuracy')\n",
        "plt.legend(['Training accuracy','Test accuracy'])"
      ],
      "metadata": {
        "colab": {
          "base_uri": "https://localhost:8080/",
          "height": 515
        },
        "id": "ib2tGleA8P2x",
        "outputId": "d434426b-3c0b-4cdc-b8c3-24168189b19e"
      },
      "execution_count": 50,
      "outputs": [
        {
          "output_type": "execute_result",
          "data": {
            "text/plain": [
              "<matplotlib.legend.Legend at 0x7f5d0828d2b0>"
            ]
          },
          "metadata": {},
          "execution_count": 50
        },
        {
          "output_type": "display_data",
          "data": {
            "text/plain": [
              "<Figure size 576x576 with 1 Axes>"
            ],
            "image/png": "[encoded data removed]"
          },
          "metadata": {
            "needs_background": "light"
          }
        }
      ]
    },
    {
      "cell_type": "markdown",
      "source": [
        "Again it's not obvious from the plot but from from the output from the code before we can conclude that as the gamma value increase the test error increase to as high as 0.5 and training error reduces to as low as 0. The value for gamma that give the lowest amount of overfitting while keeping the errors at aminimum in my opinion is Gamma:  1e-05\n"
      ],
      "metadata": {
        "id": "UN5o4AvgQP-q"
      }
    },
    {
      "cell_type": "markdown",
      "source": [
        "The test error for the linear svm model was much lower than for the kernalised SVM model."
      ],
      "metadata": {
        "id": "K_o5FtyNSBEM"
      }
    }
  ]
}